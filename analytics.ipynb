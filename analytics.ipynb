{
 "cells": [
  {
   "cell_type": "code",
   "execution_count": 1,
   "id": "initial_id",
   "metadata": {
    "collapsed": true,
    "ExecuteTime": {
     "end_time": "2024-03-15T08:27:16.161781Z",
     "start_time": "2024-03-15T08:27:15.040337Z"
    }
   },
   "outputs": [],
   "source": [
    "import pandas as pd\n",
    "import psycopg2\n",
    "import warnings"
   ]
  },
  {
   "cell_type": "code",
   "outputs": [],
   "source": [
    "warnings.simplefilter(action='ignore', category=UserWarning)\n",
    "\n",
    "db_params = {\n",
    "    'database': 'postgres',\n",
    "    'user': 'postgres',\n",
    "    'password': 'admin',\n",
    "    'host': '127.0.0.1',\n",
    "    'port': '5432'\n",
    "}\n",
    "conn = psycopg2.connect(**db_params)\n",
    "conn.autocommit = True"
   ],
   "metadata": {
    "collapsed": false,
    "ExecuteTime": {
     "end_time": "2024-03-15T08:27:29.912634Z",
     "start_time": "2024-03-15T08:27:29.709736Z"
    }
   },
   "id": "ef61acd628d4b021",
   "execution_count": 2
  },
  {
   "cell_type": "markdown",
   "source": [
    "### Задание 1.1\n",
    "Найти десять самых продаваемых товаров по магазинам"
   ],
   "metadata": {
    "collapsed": false
   },
   "id": "2fc5f819353c10a1"
  },
  {
   "cell_type": "code",
   "outputs": [
    {
     "data": {
      "text/plain": "                    branch_name  \\\n0                  ЕКБ Вайнера    \n1       Самара ТЦ Аврора SMART    \n2              Кра на Спутнике    \n3    Новокуйбышевск пр. Победы    \n4                Чита ТЦ Парад    \n..                          ...   \n273        Ульяновск Гончарова    \n274   яПрокопьевск на Шахтеров    \n275               яХаб  ИЗОТОП    \n276               яХаб Партнер    \n277                  Хаб Склад    \n\n                                          top_products  \n0    [Память Trans Flash (microSDHC) 8 Gb  class 10...  \n1    [Память Trans Flash (microSDHC) 8 Gb  class 10...  \n2    [Память Trans Flash (microSDHC) 8 Gb  class 10...  \n3    [Память Trans Flash (microSDHC) 8 Gb  class 10...  \n4    [Память Trans Flash (microSDHC) 8 Gb  class 10...  \n..                                                 ...  \n273  [Память Trans Flash (microSDHC) 8 Gb  class 10...  \n274  [Память Trans Flash (microSDHC) 8 Gb  class 10...  \n275  [Память Trans Flash (microSDHC) 8 Gb  class 10...  \n276  [Память Trans Flash (microSDHC) 8 Gb  class 10...  \n277  [Гирлянда Orient \"Сокровища гномов\", 14 разноц...  \n\n[278 rows x 2 columns]",
      "text/html": "<div>\n<style scoped>\n    .dataframe tbody tr th:only-of-type {\n        vertical-align: middle;\n    }\n\n    .dataframe tbody tr th {\n        vertical-align: top;\n    }\n\n    .dataframe thead th {\n        text-align: right;\n    }\n</style>\n<table border=\"1\" class=\"dataframe\">\n  <thead>\n    <tr style=\"text-align: right;\">\n      <th></th>\n      <th>branch_name</th>\n      <th>top_products</th>\n    </tr>\n  </thead>\n  <tbody>\n    <tr>\n      <th>0</th>\n      <td>ЕКБ Вайнера</td>\n      <td>[Память Trans Flash (microSDHC) 8 Gb  class 10...</td>\n    </tr>\n    <tr>\n      <th>1</th>\n      <td>Самара ТЦ Аврора SMART</td>\n      <td>[Память Trans Flash (microSDHC) 8 Gb  class 10...</td>\n    </tr>\n    <tr>\n      <th>2</th>\n      <td>Кра на Спутнике</td>\n      <td>[Память Trans Flash (microSDHC) 8 Gb  class 10...</td>\n    </tr>\n    <tr>\n      <th>3</th>\n      <td>Новокуйбышевск пр. Победы</td>\n      <td>[Память Trans Flash (microSDHC) 8 Gb  class 10...</td>\n    </tr>\n    <tr>\n      <th>4</th>\n      <td>Чита ТЦ Парад</td>\n      <td>[Память Trans Flash (microSDHC) 8 Gb  class 10...</td>\n    </tr>\n    <tr>\n      <th>...</th>\n      <td>...</td>\n      <td>...</td>\n    </tr>\n    <tr>\n      <th>273</th>\n      <td>Ульяновск Гончарова</td>\n      <td>[Память Trans Flash (microSDHC) 8 Gb  class 10...</td>\n    </tr>\n    <tr>\n      <th>274</th>\n      <td>яПрокопьевск на Шахтеров</td>\n      <td>[Память Trans Flash (microSDHC) 8 Gb  class 10...</td>\n    </tr>\n    <tr>\n      <th>275</th>\n      <td>яХаб  ИЗОТОП</td>\n      <td>[Память Trans Flash (microSDHC) 8 Gb  class 10...</td>\n    </tr>\n    <tr>\n      <th>276</th>\n      <td>яХаб Партнер</td>\n      <td>[Память Trans Flash (microSDHC) 8 Gb  class 10...</td>\n    </tr>\n    <tr>\n      <th>277</th>\n      <td>Хаб Склад</td>\n      <td>[Гирлянда Orient \"Сокровища гномов\", 14 разноц...</td>\n    </tr>\n  </tbody>\n</table>\n<p>278 rows × 2 columns</p>\n</div>"
     },
     "metadata": {},
     "output_type": "display_data"
    }
   ],
   "source": [
    "sql_query = '''\n",
    "WITH RankedProducts AS (\n",
    "    SELECT\n",
    "        products.Наименование AS product_name,\n",
    "        sales.Номенклатура,\n",
    "        branches.Ссылка AS branch_key,\n",
    "        branches.Наименование AS branch_name,\n",
    "        ROW_NUMBER() OVER (PARTITION BY branches.Ссылка ORDER BY sales.Номенклатура DESC) AS ranking\n",
    "    FROM sales\n",
    "    INNER JOIN products \n",
    "        ON sales.Номенклатура = products.Ссылка\n",
    "    INNER JOIN branches \n",
    "        ON sales.Филиал = branches.Ссылка\n",
    "    WHERE (UPPER(products.Наименование) NOT LIKE UPPER('%Доставка%') AND UPPER(products.Наименование) NOT LIKE UPPER('%Обработка%'))\n",
    "    ),\n",
    "    branches_new AS (\n",
    "        SELECT *,\n",
    "        CASE WHEN branches.Наименование LIKE '%склад%' OR branches.Наименование LIKE '%Склад%' THEN TRUE ELSE FALSE END AS is_storage\n",
    "        FROM branches\n",
    "    ),\n",
    "    branches_with_products AS (\n",
    "        SELECT \n",
    "            branches_new.Ссылка AS branch_key,\n",
    "            branches_new.Наименование AS branch_name,\n",
    "            ARRAY_AGG(RankedProducts.product_name) AS top_products\n",
    "        FROM branches_new\n",
    "        INNER JOIN RankedProducts\n",
    "            ON RankedProducts.branch_key = branches_new.Ссылка\n",
    "        WHERE RankedProducts.ranking BETWEEN 1 AND 10\n",
    "        GROUP BY branches_new.Ссылка, branches_new.Наименование\n",
    "    )\n",
    "    SELECT branch_name, top_products FROM branches_with_products WHERE top_products IS NOT NULL;\n",
    "'''\n",
    "\n",
    "# Выполнение запроса и чтение результатов в DataFrame\n",
    "df = pd.read_sql_query(sql_query, conn)\n",
    "\n",
    "cursor = conn.cursor()\n",
    "\n",
    "# Удаление таблицы, если она уже существует\n",
    "cursor.execute(\"DROP TABLE IF EXISTS branch_products\")\n",
    "\n",
    "# Создание таблицы branch_products\n",
    "cursor.execute('''\n",
    "    CREATE TABLE branch_products (\n",
    "        branch_name VARCHAR(255),\n",
    "        top_products TEXT[]\n",
    "    )\n",
    "''')\n",
    "\n",
    "# Вставка данных из DataFrame в таблицу branch_products\n",
    "for index, row in df.iterrows():\n",
    "    cursor.execute(\"INSERT INTO branch_products (branch_name, top_products) VALUES (%s, %s)\", (row['branch_name'], row['top_products']))\n",
    "\n",
    "conn.commit()\n",
    "display(df)"
   ],
   "metadata": {
    "collapsed": false,
    "ExecuteTime": {
     "end_time": "2024-03-15T08:28:15.457161Z",
     "start_time": "2024-03-15T08:27:31.920480Z"
    }
   },
   "id": "521aeca783151f14",
   "execution_count": 3
  },
  {
   "cell_type": "markdown",
   "source": [
    "### Задание 1.2\n",
    "Найти топ десять магазинов по суммарному количеству продаж"
   ],
   "metadata": {
    "collapsed": false
   },
   "id": "50c1e0d214f941c2"
  },
  {
   "cell_type": "code",
   "outputs": [
    {
     "data": {
      "text/plain": "                  branch_name  sum_of_sales\n0           Новосиб Ватутина        94624.0\n1     Ростов Красноармейская        79159.0\n2  яВладивосток  Луговая МБТ        74879.0\n3          Омск  на Гагарина        70353.0\n4   яКомсомольск Аллея Труда        66382.0\n5                ЕКБ Вайнера        63229.0\n6  яН.Новгород Пл. Революции        63049.0\n7   яСаратов Университетская        60728.0\n8           Ростов Вавилония        60458.0\n9        Краснодар ТЦ Кавказ        60359.0",
      "text/html": "<div>\n<style scoped>\n    .dataframe tbody tr th:only-of-type {\n        vertical-align: middle;\n    }\n\n    .dataframe tbody tr th {\n        vertical-align: top;\n    }\n\n    .dataframe thead th {\n        text-align: right;\n    }\n</style>\n<table border=\"1\" class=\"dataframe\">\n  <thead>\n    <tr style=\"text-align: right;\">\n      <th></th>\n      <th>branch_name</th>\n      <th>sum_of_sales</th>\n    </tr>\n  </thead>\n  <tbody>\n    <tr>\n      <th>0</th>\n      <td>Новосиб Ватутина</td>\n      <td>94624.0</td>\n    </tr>\n    <tr>\n      <th>1</th>\n      <td>Ростов Красноармейская</td>\n      <td>79159.0</td>\n    </tr>\n    <tr>\n      <th>2</th>\n      <td>яВладивосток  Луговая МБТ</td>\n      <td>74879.0</td>\n    </tr>\n    <tr>\n      <th>3</th>\n      <td>Омск  на Гагарина</td>\n      <td>70353.0</td>\n    </tr>\n    <tr>\n      <th>4</th>\n      <td>яКомсомольск Аллея Труда</td>\n      <td>66382.0</td>\n    </tr>\n    <tr>\n      <th>5</th>\n      <td>ЕКБ Вайнера</td>\n      <td>63229.0</td>\n    </tr>\n    <tr>\n      <th>6</th>\n      <td>яН.Новгород Пл. Революции</td>\n      <td>63049.0</td>\n    </tr>\n    <tr>\n      <th>7</th>\n      <td>яСаратов Университетская</td>\n      <td>60728.0</td>\n    </tr>\n    <tr>\n      <th>8</th>\n      <td>Ростов Вавилония</td>\n      <td>60458.0</td>\n    </tr>\n    <tr>\n      <th>9</th>\n      <td>Краснодар ТЦ Кавказ</td>\n      <td>60359.0</td>\n    </tr>\n  </tbody>\n</table>\n</div>"
     },
     "metadata": {},
     "output_type": "display_data"
    }
   ],
   "source": [
    "sql_query = '''\n",
    "    CREATE TEMPORARY TABLE branches_new AS (\n",
    "        SELECT *,\n",
    "            CASE WHEN Наименование LIKE '%склад%' OR Наименование LIKE '%Склад%' THEN TRUE ELSE FALSE END AS is_storage\n",
    "        FROM branches);\n",
    "'''\n",
    "cursor = conn.cursor()\n",
    "cursor.execute(sql_query)\n",
    "\n",
    "sql_query = '''\n",
    "WITH RankedShops AS (\n",
    "    SELECT *,\n",
    "           CASE WHEN Наименование LIKE '%склад%' OR Наименование LIKE '%Склад%' THEN TRUE ELSE FALSE END AS is_storage\n",
    "    FROM branches\n",
    "    )\n",
    "    SELECT\n",
    "        branches_new.Наименование AS branch_name,\n",
    "        SUM(sales.Количество) AS sum_of_sales\n",
    "    FROM sales\n",
    "    INNER JOIN branches_new ON branches_new.Ссылка = sales.Филиал\n",
    "    WHERE is_storage = FALSE\n",
    "    GROUP BY branch_name\n",
    "    ORDER BY sum_of_sales DESC\n",
    "    LIMIT 10\n",
    "    OFFSET 1;\n",
    "'''\n",
    "\n",
    "df = pd.read_sql_query(sql_query, conn)\n",
    "cursor = conn.cursor()\n",
    "cursor.execute(\"DROP TABLE IF EXISTS top_shops\")\n",
    "\n",
    "# Создание таблицы top_shops\n",
    "cursor.execute('''\n",
    "    CREATE TABLE top_shops (\n",
    "        branch_name VARCHAR(255),\n",
    "        sum_of_sales NUMERIC\n",
    "    )\n",
    "''')\n",
    "\n",
    "# Вставка данных из DataFrame в таблицу top_shops\n",
    "for index, row in df.iterrows():\n",
    "    cursor.execute(\"INSERT INTO top_shops (branch_name, sum_of_sales) VALUES (%s, %s)\", (row['branch_name'], row['sum_of_sales']))\n",
    "    \n",
    "conn.commit()\n",
    "display(df)"
   ],
   "metadata": {
    "collapsed": false,
    "ExecuteTime": {
     "end_time": "2024-03-15T08:28:26.557245Z",
     "start_time": "2024-03-15T08:28:20.635763Z"
    }
   },
   "id": "6172cb1cd8f79e3a",
   "execution_count": 4
  },
  {
   "cell_type": "markdown",
   "source": [
    "### Задание 1.3\n",
    "Вывести рейтинг товаров согласно суммарному количеству проданного товара за всю историю наблюдений со средним количеством продаж за день по убыванию"
   ],
   "metadata": {
    "collapsed": false
   },
   "id": "6b1df8492fbb1356"
  },
  {
   "cell_type": "code",
   "outputs": [
    {
     "data": {
      "text/plain": "                                            product_name  sum_of_sales  \\\n0                                Доставка внутри региона     1036108.0   \n1              Разъем Noname [RJ45, 8P8C, кат. 5e, 1 шт]      256369.0   \n2      Кабель UTP, 4 пары, одножильный (solid), кат. ...      212994.0   \n3                                Обработка грузов на РРЦ      171546.0   \n4                                 Доставка от поставщика       43338.0   \n...                                                  ...           ...   \n19841  Сотовый телефон Samsung GT-S5330 WAVE 533  Bla...          -2.0   \n19842  Монитор LG  21.5\" Flatron W2246S [1920x1080, D...          -2.0   \n19843  Монитор LG LCD 20\" Flatron W2046S [1600x900, D...          -2.0   \n19844  Монитор LG LCD 19\" Flatron W1934S/S-PF [1440x9...          -3.0   \n19845  Видеокарта PCI-E Ninja Geforce GT 430 Low Prof...          -4.0   \n\n         avg_sales  \n0      9088.666667  \n1      2136.408333  \n2      1774.950000  \n3      3500.938776  \n4       498.137931  \n...            ...  \n19841    -0.500000  \n19842    -1.000000  \n19843    -1.000000  \n19844    -1.000000  \n19845    -4.000000  \n\n[19846 rows x 3 columns]",
      "text/html": "<div>\n<style scoped>\n    .dataframe tbody tr th:only-of-type {\n        vertical-align: middle;\n    }\n\n    .dataframe tbody tr th {\n        vertical-align: top;\n    }\n\n    .dataframe thead th {\n        text-align: right;\n    }\n</style>\n<table border=\"1\" class=\"dataframe\">\n  <thead>\n    <tr style=\"text-align: right;\">\n      <th></th>\n      <th>product_name</th>\n      <th>sum_of_sales</th>\n      <th>avg_sales</th>\n    </tr>\n  </thead>\n  <tbody>\n    <tr>\n      <th>0</th>\n      <td>Доставка внутри региона</td>\n      <td>1036108.0</td>\n      <td>9088.666667</td>\n    </tr>\n    <tr>\n      <th>1</th>\n      <td>Разъем Noname [RJ45, 8P8C, кат. 5e, 1 шт]</td>\n      <td>256369.0</td>\n      <td>2136.408333</td>\n    </tr>\n    <tr>\n      <th>2</th>\n      <td>Кабель UTP, 4 пары, одножильный (solid), кат. ...</td>\n      <td>212994.0</td>\n      <td>1774.950000</td>\n    </tr>\n    <tr>\n      <th>3</th>\n      <td>Обработка грузов на РРЦ</td>\n      <td>171546.0</td>\n      <td>3500.938776</td>\n    </tr>\n    <tr>\n      <th>4</th>\n      <td>Доставка от поставщика</td>\n      <td>43338.0</td>\n      <td>498.137931</td>\n    </tr>\n    <tr>\n      <th>...</th>\n      <td>...</td>\n      <td>...</td>\n      <td>...</td>\n    </tr>\n    <tr>\n      <th>19841</th>\n      <td>Сотовый телефон Samsung GT-S5330 WAVE 533  Bla...</td>\n      <td>-2.0</td>\n      <td>-0.500000</td>\n    </tr>\n    <tr>\n      <th>19842</th>\n      <td>Монитор LG  21.5\" Flatron W2246S [1920x1080, D...</td>\n      <td>-2.0</td>\n      <td>-1.000000</td>\n    </tr>\n    <tr>\n      <th>19843</th>\n      <td>Монитор LG LCD 20\" Flatron W2046S [1600x900, D...</td>\n      <td>-2.0</td>\n      <td>-1.000000</td>\n    </tr>\n    <tr>\n      <th>19844</th>\n      <td>Монитор LG LCD 19\" Flatron W1934S/S-PF [1440x9...</td>\n      <td>-3.0</td>\n      <td>-1.000000</td>\n    </tr>\n    <tr>\n      <th>19845</th>\n      <td>Видеокарта PCI-E Ninja Geforce GT 430 Low Prof...</td>\n      <td>-4.0</td>\n      <td>-4.000000</td>\n    </tr>\n  </tbody>\n</table>\n<p>19846 rows × 3 columns</p>\n</div>"
     },
     "metadata": {},
     "output_type": "display_data"
    }
   ],
   "source": [
    "sql_query = '''\n",
    "WITH products_ranking AS (\n",
    "    SELECT\n",
    "        products.Ссылка,\n",
    "        products.Наименование AS product_name,\n",
    "        SUM(sales.Количество) AS sum_of_sales,\n",
    "        COUNT(DISTINCT DATE_TRUNC('day', sales.Период)) AS days_count,\n",
    "        SUM(sales.Количество) / COUNT(DISTINCT DATE_TRUNC('day', sales.Период)) AS avg_sales,\n",
    "        ROW_NUMBER() OVER (ORDER BY SUM(sales.Количество) DESC) AS ranking\n",
    "    FROM sales\n",
    "    INNER JOIN products\n",
    "        ON sales.Номенклатура = products.Ссылка\n",
    "    GROUP BY products.Ссылка\n",
    "    )\n",
    "    SELECT\n",
    "        product_name,\n",
    "        sum_of_sales,\n",
    "        avg_sales\n",
    "    FROM products_ranking\n",
    "    ORDER BY ranking;\n",
    "'''\n",
    "\n",
    "df = pd.read_sql_query(sql_query, conn)\n",
    "cursor = conn.cursor()\n",
    "cursor.execute(\"DROP TABLE IF EXISTS products_ranking\")\n",
    "\n",
    "# Создание таблицы products_ranking\n",
    "cursor.execute('''\n",
    "    CREATE TABLE products_ranking (\n",
    "        product_name VARCHAR(255),\n",
    "        sum_of_sales NUMERIC,\n",
    "        avg_sales NUMERIC\n",
    "    )\n",
    "''')\n",
    "\n",
    "# Вставка данных из DataFrame в таблицу products_ranking\n",
    "for index, row in df.iterrows():\n",
    "    cursor.execute(\"INSERT INTO products_ranking (product_name, sum_of_sales, avg_sales) VALUES (%s, %s, %s)\", (row['product_name'], row['sum_of_sales'], row['avg_sales']))\n",
    "    \n",
    "conn.commit()\n",
    "display(df)"
   ],
   "metadata": {
    "collapsed": false,
    "ExecuteTime": {
     "end_time": "2024-03-15T08:29:14.943964Z",
     "start_time": "2024-03-15T08:28:29.901767Z"
    }
   },
   "id": "46ecb0215dd95798",
   "execution_count": 5
  },
  {
   "cell_type": "markdown",
   "source": [
    "### Задание 1.4\n",
    "Найти два лучших филиала согласно суммарному количеству проданного товара за всю историю наблюдений в регионе Урал по городу Екатеринбург с суммой продаж за январь"
   ],
   "metadata": {
    "collapsed": false
   },
   "id": "2504a8db38a378a4"
  },
  {
   "cell_type": "code",
   "outputs": [
    {
     "data": {
      "text/plain": "         branch_name  sum_of_sales\n0  ЕКБ старый cклад        42489.0\n1       ЕКБ Вайнера        15605.0",
      "text/html": "<div>\n<style scoped>\n    .dataframe tbody tr th:only-of-type {\n        vertical-align: middle;\n    }\n\n    .dataframe tbody tr th {\n        vertical-align: top;\n    }\n\n    .dataframe thead th {\n        text-align: right;\n    }\n</style>\n<table border=\"1\" class=\"dataframe\">\n  <thead>\n    <tr style=\"text-align: right;\">\n      <th></th>\n      <th>branch_name</th>\n      <th>sum_of_sales</th>\n    </tr>\n  </thead>\n  <tbody>\n    <tr>\n      <th>0</th>\n      <td>ЕКБ старый cклад</td>\n      <td>42489.0</td>\n    </tr>\n    <tr>\n      <th>1</th>\n      <td>ЕКБ Вайнера</td>\n      <td>15605.0</td>\n    </tr>\n  </tbody>\n</table>\n</div>"
     },
     "metadata": {},
     "output_type": "display_data"
    }
   ],
   "source": [
    "sql_query = '''\n",
    "    SELECT\n",
    "        branches.Наименование AS branch_name,\n",
    "        SUM(sales.Количество) AS sum_of_sales\n",
    "    FROM sales\n",
    "    INNER JOIN branches\n",
    "        ON branches.Ссылка = sales.Филиал\n",
    "    WHERE \n",
    "        branches.Город = (\n",
    "            SELECT Ссылка \n",
    "            FROM cities \n",
    "            WHERE Наименование = 'Екатеринбург'\n",
    "        )\n",
    "        AND EXTRACT(MONTH FROM Период) = 1\n",
    "    GROUP BY branch_name\n",
    "    ORDER BY sum_of_sales DESC\n",
    "    LIMIT 2;\n",
    "'''\n",
    "\n",
    "df = pd.read_sql_query(sql_query, conn)\n",
    "cursor = conn.cursor()\n",
    "cursor.execute(\"DROP TABLE IF EXISTS top_ural_shops\")\n",
    "\n",
    "# Создание таблицы top_ural_shops\n",
    "cursor.execute('''\n",
    "    CREATE TABLE top_ural_shops (\n",
    "        branch_name VARCHAR(255),\n",
    "        sum_of_sales NUMERIC\n",
    "    )\n",
    "''')\n",
    "\n",
    "# Вставка данных из DataFrame в таблицу top_ural_shops\n",
    "for index, row in df.iterrows():\n",
    "    cursor.execute(\"INSERT INTO top_ural_shops (branch_name, sum_of_sales) VALUES (%s, %s)\", (row['branch_name'], row['sum_of_sales']))\n",
    "    \n",
    "conn.commit()\n",
    "display(df)"
   ],
   "metadata": {
    "collapsed": false,
    "ExecuteTime": {
     "end_time": "2024-03-15T08:29:20.942277Z",
     "start_time": "2024-03-15T08:29:19.322396Z"
    }
   },
   "id": "fc07bd6c693fc16a",
   "execution_count": 6
  },
  {
   "cell_type": "markdown",
   "source": [
    "### Задание 1.5\n",
    "Рассчитать и вывести в какие часы и в какой день недели происходит максимальное количество продаж"
   ],
   "metadata": {
    "collapsed": false
   },
   "id": "3789a891e844886b"
  },
  {
   "cell_type": "code",
   "outputs": [
    {
     "data": {
      "text/plain": "   day_of_week  hour  sales_count\n0          6.0  14.0       153267\n1          6.0  15.0       150048\n2          6.0  13.0       147808",
      "text/html": "<div>\n<style scoped>\n    .dataframe tbody tr th:only-of-type {\n        vertical-align: middle;\n    }\n\n    .dataframe tbody tr th {\n        vertical-align: top;\n    }\n\n    .dataframe thead th {\n        text-align: right;\n    }\n</style>\n<table border=\"1\" class=\"dataframe\">\n  <thead>\n    <tr style=\"text-align: right;\">\n      <th></th>\n      <th>day_of_week</th>\n      <th>hour</th>\n      <th>sales_count</th>\n    </tr>\n  </thead>\n  <tbody>\n    <tr>\n      <th>0</th>\n      <td>6.0</td>\n      <td>14.0</td>\n      <td>153267</td>\n    </tr>\n    <tr>\n      <th>1</th>\n      <td>6.0</td>\n      <td>15.0</td>\n      <td>150048</td>\n    </tr>\n    <tr>\n      <th>2</th>\n      <td>6.0</td>\n      <td>13.0</td>\n      <td>147808</td>\n    </tr>\n  </tbody>\n</table>\n</div>"
     },
     "metadata": {},
     "output_type": "display_data"
    }
   ],
   "source": [
    "sql_query = '''\n",
    "    SELECT\n",
    "        EXTRACT(DOW FROM Период) AS day_of_week,\n",
    "        EXTRACT(HOUR FROM Период) AS hour,\n",
    "        COUNT(*) AS sales_count\n",
    "    FROM sales\n",
    "    GROUP BY day_of_week, hour\n",
    "    ORDER BY sales_count DESC\n",
    "    LIMIT 3;\n",
    "'''\n",
    "\n",
    "df = pd.read_sql_query(sql_query, conn)\n",
    "cursor = conn.cursor()\n",
    "cursor.execute(\"DROP TABLE IF EXISTS sales_best_days\")\n",
    "\n",
    "# Создание таблицы sales_best_days\n",
    "cursor.execute('''\n",
    "    CREATE TABLE sales_best_days (\n",
    "        day_of_week NUMERIC,\n",
    "        hour NUMERIC,\n",
    "        sales_count NUMERIC\n",
    "    )\n",
    "''')\n",
    "\n",
    "# Вставка данных из DataFrame в таблицу sales_best_days\n",
    "for index, row in df.iterrows():\n",
    "    cursor.execute(\"INSERT INTO sales_best_days (day_of_week, hour, sales_count) VALUES (%s, %s, %s)\", (row['day_of_week'], row['hour'], row['sales_count']))\n",
    "    \n",
    "conn.commit()\n",
    "display(df)"
   ],
   "metadata": {
    "collapsed": false,
    "ExecuteTime": {
     "end_time": "2024-03-15T08:29:34.079299Z",
     "start_time": "2024-03-15T08:29:23.190030Z"
    }
   },
   "id": "56c1376275b339d0",
   "execution_count": 7
  },
  {
   "cell_type": "code",
   "outputs": [],
   "source": [
    "cursor.close()\n",
    "conn.close()"
   ],
   "metadata": {
    "collapsed": false,
    "ExecuteTime": {
     "end_time": "2024-03-15T08:29:36.277488Z",
     "start_time": "2024-03-15T08:29:36.272239Z"
    }
   },
   "id": "a6473c547598510c",
   "execution_count": 8
  }
 ],
 "metadata": {
  "kernelspec": {
   "display_name": "Python 3",
   "language": "python",
   "name": "python3"
  },
  "language_info": {
   "codemirror_mode": {
    "name": "ipython",
    "version": 2
   },
   "file_extension": ".py",
   "mimetype": "text/x-python",
   "name": "python",
   "nbconvert_exporter": "python",
   "pygments_lexer": "ipython2",
   "version": "2.7.6"
  }
 },
 "nbformat": 4,
 "nbformat_minor": 5
}
